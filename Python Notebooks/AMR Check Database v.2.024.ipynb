{
 "cells": [
  {
   "cell_type": "markdown",
   "id": "4c77a16e",
   "metadata": {},
   "source": [
    "# Только для локального запуска"
   ]
  },
  {
   "cell_type": "code",
   "execution_count": 1,
   "id": "f3892514",
   "metadata": {
    "scrolled": false
   },
   "outputs": [
    {
     "name": "stdout",
     "output_type": "stream",
     "text": [
      "########################################################\n",
      "     _                _        __  __           _      \n",
      "    / \\   _ __  _ __ | | ___  |  \\/  |_   _ ___(_) ___ \n",
      "   / _ \\ | '_ \\| '_ \\| |/ _ \\ | |\\/| | | | / __| |/ __|\n",
      "  / ___ \\| |_) | |_) | |  __/ | |  | | |_| \\__ \\ | (__ \n",
      " /_/   \\_\\ .__/| .__/|_|\\___| |_|  |_|\\__,_|___/_|\\___|\n",
      "         |_|   |_|  _ \\ ___| | ___  __ _ ___  ___  ___ \n",
      "                 | |_) / _ \\ |/ _ \\/ _` / __|/ _ \\/ __|\n",
      "                 |  _ <  __/ |  __/ (_| \\__ \\  __/\\__ \\\n",
      "   ____ _        |_| \\_\\___|_|\\___|\\__,_|___/\\___||___/\n",
      "  / ___| |__   ___  ___| | __                          \n",
      " | |   | '_ \\ / _ \\/ __| |/ /                          \n",
      " | |___| | | |  __/ (__|   <                           \n",
      "  \\____|_| |_|\\___|\\___|_|\\_\\                          \n",
      " |  _ \\  __ _| |_ __ _| |__   __ _ ___  ___            \n",
      " | | | |/ _` | __/ _` | '_ \\ / _` / __|/ _ \\           \n",
      " | |_| | (_| | || (_| | |_) | (_| \\__ \\  __/           \n",
      " |____/ \\__,_|\\__\\__,_|_.__/ \\__,_|___/\\___|           \n",
      "\n",
      " v.2.024 [Local]                                    \n",
      " (c)&(p) 2022-2024 by Viktor 'MushroomOFF' Gribov\n",
      "########################################################\n",
      "\n",
      "[V] Ready\n"
     ]
    }
   ],
   "source": [
    "ver = \"v.2.024 [Local]\"\n",
    "\n",
    "import pandas as pd\n",
    "import datetime\n",
    "import qgrid\n",
    "\n",
    "print(\"########################################################\")\n",
    "print(\"\"\"     _                _        __  __           _      \n",
    "    / \\   _ __  _ __ | | ___  |  \\/  |_   _ ___(_) ___ \n",
    "   / _ \\ | '_ \\| '_ \\| |/ _ \\ | |\\/| | | | / __| |/ __|\n",
    "  / ___ \\| |_) | |_) | |  __/ | |  | | |_| \\__ \\ | (__ \n",
    " /_/   \\_\\ .__/| .__/|_|\\___| |_|  |_|\\__,_|___/_|\\___|\n",
    "         |_|   |_|  _ \\ ___| | ___  __ _ ___  ___  ___ \n",
    "                 | |_) / _ \\ |/ _ \\/ _` / __|/ _ \\/ __|\n",
    "                 |  _ <  __/ |  __/ (_| \\__ \\  __/\\__ \\\\\n",
    "   ____ _        |_| \\_\\___|_|\\___|\\__,_|___/\\___||___/\n",
    "  / ___| |__   ___  ___| | __                          \n",
    " | |   | '_ \\ / _ \\/ __| |/ /                          \n",
    " | |___| | | |  __/ (__|   <                           \n",
    "  \\____|_| |_|\\___|\\___|_|\\_\\                          \n",
    " |  _ \\  __ _| |_ __ _| |__   __ _ ___  ___            \n",
    " | | | |/ _` | __/ _` | '_ \\ / _` / __|/ _ \\           \n",
    " | |_| | (_| | || (_| | |_) | (_| \\__ \\  __/           \n",
    " |____/ \\__,_|\\__\\__,_|_.__/ \\__,_|___/\\___|           \n",
    "\"\"\")\n",
    "print(\" \"+ver+\"                                    \")\n",
    "print(\" (c)&(p) 2022-\" + str(datetime.datetime.now())[0:4] + \" by Viktor 'MushroomOFF' Gribov\")\n",
    "print(\"########################################################\")\n",
    "\n",
    "# Переменные ----------------------------------\n",
    "rootFolder = '/Users/viktorgribov/GitHub/mushroomoff.github.io/'\n",
    "dbFolder = 'Databases/'\n",
    "releasesDB = rootFolder + dbFolder + 'AMR_releases_DB.csv'\n",
    "df_scale = pd.read_csv(releasesDB, sep=\";\")\n",
    "# ---------------------------------------------\n",
    "\n",
    "qgrid.set_grid_option('maxVisibleRows', 100)\n",
    "col_def = {'index': {\"width\":55},\n",
    "           'mainArtist': {\"width\":120},\n",
    "           'artistName': {\"width\":120},\n",
    "           'collectionName': {\"width\":280},\n",
    "           'trackCount': {\"width\":30},\n",
    "           'copyright': {\"width\":70},\n",
    "           'releaseYear': {\"width\":30},\n",
    "           'releaseDate': {\"width\":90},\n",
    "           'dateUpdate': {\"width\":90},\n",
    "           'downloadedRelease': {\"width\":30},\n",
    "           'updReason': {\"width\":80}\n",
    "          }\n",
    "print('')\n",
    "print('[V] Ready')"
   ]
  },
  {
   "cell_type": "code",
   "execution_count": 5,
   "id": "6bb6ae54",
   "metadata": {
    "scrolled": false
   },
   "outputs": [
    {
     "data": {
      "application/vnd.jupyter.widget-view+json": {
       "model_id": "8dcc75a1b9bf408abfaeb099d638e117",
       "version_major": 2,
       "version_minor": 0
      },
      "text/plain": [
       "QgridWidget(grid_options={'fullWidthRows': True, 'syncColumnCellResize': True, 'forceFitColumns': True, 'defau…"
      ]
     },
     "metadata": {},
     "output_type": "display_data"
    }
   ],
   "source": [
    "q_scale = qgrid.show_grid(df_scale[['mainArtist','artistName','collectionName','trackCount','copyright','releaseYear','releaseDate','dateUpdate','downloadedRelease','updReason']], \n",
    "                          show_toolbar=False, precision=0, grid_options={'forceFitColumns': True, 'highlightSelectedCell': True}, column_definitions=col_def)\n",
    "q_scale"
   ]
  },
  {
   "cell_type": "code",
   "execution_count": 6,
   "id": "722a155f",
   "metadata": {},
   "outputs": [
    {
     "name": "stdout",
     "output_type": "stream",
     "text": [
      "Done!\n"
     ]
    }
   ],
   "source": [
    "for index, row in q_scale.get_changed_df().iterrows():\n",
    "    df_scale.loc[index,'artistName'] = q_scale.get_changed_df().loc[index,'artistName']\n",
    "    df_scale.loc[index,'releaseDate'] = q_scale.get_changed_df().loc[index,'releaseDate']\n",
    "    df_scale.loc[index,'collectionName'] = q_scale.get_changed_df().loc[index,'collectionName']\n",
    "    df_scale.loc[index,'downloadedRelease'] = q_scale.get_changed_df().loc[index,'downloadedRelease']\n",
    "    df_scale.loc[index,'updReason'] = q_scale.get_changed_df().loc[index,'updReason']\n",
    "print('Done!')"
   ]
  },
  {
   "cell_type": "code",
   "execution_count": 7,
   "id": "adb0605c",
   "metadata": {},
   "outputs": [
    {
     "name": "stdout",
     "output_type": "stream",
     "text": [
      "OK\n"
     ]
    }
   ],
   "source": [
    "# ВНИМАНИЕ!!! Запись в БД!!! ######################\n",
    "df_scale.to_csv(releasesDB, sep=';', index=False)\n",
    "print('OK')\n",
    "###################################################"
   ]
  },
  {
   "cell_type": "code",
   "execution_count": null,
   "id": "c732e63d",
   "metadata": {},
   "outputs": [],
   "source": []
  },
  {
   "cell_type": "code",
   "execution_count": null,
   "id": "e73e12d1",
   "metadata": {},
   "outputs": [],
   "source": []
  },
  {
   "cell_type": "markdown",
   "id": "7ee416d5",
   "metadata": {},
   "source": [
    "## Текстовый выбор релизов. Только для запуска через Терминал"
   ]
  },
  {
   "cell_type": "code",
   "execution_count": null,
   "id": "869d286c",
   "metadata": {},
   "outputs": [],
   "source": [
    "ver = \"v.2.024 [Local]\"\n",
    "# Python 3.12 & Pandas 2.2 ready\n",
    "\n",
    "import pandas as pd\n",
    "import datetime\n",
    "from pandasql import sqldf\n",
    "\n",
    "# Переменные ----------------------------------\n",
    "rootFolder = '/Users/viktorgribov/GitHub/mushroomoff.github.io/'\n",
    "dbFolder = 'Databases/'\n",
    "releasesDB = rootFolder + dbFolder + 'AMR_releases_DB.csv'\n",
    "pdiTunesDB = pd.read_csv(releasesDB, sep=\";\")\n",
    "where_block = \"\"\n",
    "# ---------------------------------------------\n",
    "\n",
    "# Функции -------------------------------------\n",
    "def ShowReleases(dateFrom,dateTo):\n",
    "    \"\"\"Функция поиска релизов в БД\n",
    "    dateFrom:          0             -> no condition           \n",
    "                       \"2022-01-01\"  -> AND \"releaseDate\" > {dateFrom}\n",
    "                       \"2022-01-01+\" -> AND \"releaseDate\" >= {dateFrom}\n",
    "    dateTo:            0             -> no condition           \n",
    "                       \"2022-01-01\"  -> AND \"releaseDate\" < {dateTo}\n",
    "                       \"2022-01-01+\" -> AND \"releaseDate\" <= {dateTo}\n",
    "    \"\"\"\n",
    "    whereBlock = ''\n",
    "    \n",
    "    if len(dateFrom) == 10: whereBlock += ' AND SUBSTRING(\"releaseDate\",1,10) > \"'+dateFrom+'\"'\n",
    "    elif len(dateFrom) == 11: whereBlock += ' AND SUBSTRING(\"releaseDate\",1,10) >= \"'+dateFrom[:10]+'\"'\n",
    "    \n",
    "    if len(dateTo) == 10: whereBlock += ' AND SUBSTRING(\"releaseDate\",1,10) < \"'+dateTo+'\"'\n",
    "    elif len(dateTo) == 11: whereBlock += ' AND SUBSTRING(\"releaseDate\",1,10) <= \"'+dateTo[:10]+'\"'\n",
    "    \n",
    "    selectSection = 'SELECT DISTINCT \"mainArtist\",\"artistName\",\"collectionName\",SUBSTRING(\"releaseDate\",1,10) AS \"releaseDate\"'\n",
    "    \n",
    "    resultDF = sqldf(f'''{selectSection} FROM pdiTunesDB WHERE 1=1 {whereBlock} AND \"downloadedRelease\" is NULL ORDER BY \"mainArtist\" ASC, SUBSTRING(\"releaseDate\",1,10) DESC, \"collectionName\" ASC''')\n",
    "    return resultDF\n",
    "# --------------------------------------------\n",
    "\n",
    "print(\"###################################################################\")\n",
    "print(\"\"\"     _                _        __  __           _                 \n",
    "    / \\\\   _ __  _ __ | | ___  |  \\\\/  |_   _ ___(_) ___            \n",
    "   / _ \\\\ | '_ \\\\| '_ \\\\| |/ _ \\\\ | |\\\\/| | | | / __| |/ __|           \n",
    "  / ___ \\\\| |_) | |_) | |  __/ | |  | | |_| \\\\__ \\\\ | (__            \n",
    " /_/   \\\\_\\\\ .__/| .__/|_|\\\\___| |_|  |_|\\\\__,_|___/_|\\\\___|           \n",
    "         |_|   |_|  _ \\\\ ___| | ___  __ _ ___  ___  ___            \n",
    "                 | |_) / _ \\\\ |/ _ \\\\/ _` / __|/ _ \\\\/ __|           \n",
    "                 |  _ <  __/ |  __/ (_| \\\\__ \\\\  __/\\\\__ \\\\           \n",
    "  ____           |_| \\\\_\\\\___|_|\\\\___|\\\\__,_|___/\\\\___||___/ _     _   \n",
    " |  _ \\\\  _____      ___ __ | | ___   __ _  __| | | |   (_)___| |_ \n",
    " | | | |/ _ \\\\ \\\\ /\\\\ / / '_ \\\\| |/ _ \\\\ / _` |/ _` | | |   | / __| __|\n",
    " | |_| | (_) \\\\ V  V /| | | | | (_) | (_| | (_| | | |___| \\\\__ \\\\ |_ \n",
    " |____/ \\\\___/ \\\\_/\\\\_/ |_| |_|_|\\\\___/ \\\\__,_|\\\\__,_| |_____|_|___/\\\\__|\n",
    "\"\"\")\n",
    "print(\" \"+ver+\"                                    \")\n",
    "print(\" (c)&(p) 2022-\" + str(datetime.datetime.now())[0:4] + \" by Viktor 'MushroomOFF' Gribov\")\n",
    "print(\"###################################################################\")\n",
    "\n",
    "print(\"\")\n",
    "print(\"Все релизы к скачиванию\")\n",
    "print(\"\")\n",
    "dt = datetime.datetime.today().strftime('%Y-%m-%d')\n",
    "resDF = ShowReleases(\"\",dt+\"+\")\n",
    "print(resDF)\n",
    "\n",
    "print(\"\")\n",
    "print(\"Предстоящие релизы\")\n",
    "print(\"\")\n",
    "dt = (datetime.datetime.now() + datetime.timedelta(days = 1)).strftime('%Y-%m-%d')\n",
    "resDF = ShowReleases(dt+\"+\",\"\")\n",
    "print(resDF)"
   ]
  },
  {
   "cell_type": "code",
   "execution_count": null,
   "id": "007fbb43",
   "metadata": {},
   "outputs": [],
   "source": []
  }
 ],
 "metadata": {
  "kernelspec": {
   "display_name": "Python 3 (ipykernel)",
   "language": "python",
   "name": "python3"
  },
  "language_info": {
   "codemirror_mode": {
    "name": "ipython",
    "version": 3
   },
   "file_extension": ".py",
   "mimetype": "text/x-python",
   "name": "python",
   "nbconvert_exporter": "python",
   "pygments_lexer": "ipython3",
   "version": "3.9.7"
  }
 },
 "nbformat": 4,
 "nbformat_minor": 5
}
